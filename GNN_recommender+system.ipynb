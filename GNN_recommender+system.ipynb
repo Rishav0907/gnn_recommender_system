{
 "cells": [
  {
   "cell_type": "code",
   "execution_count": 1,
   "metadata": {},
   "outputs": [
    {
     "name": "stdout",
     "output_type": "stream",
     "text": [
      "Looking in links: https://data.pyg.org/whl/torch-2.1.0+cu118.html\n",
      "Requirement already satisfied: torch-scatter in c:\\users\\rsaha\\appdata\\local\\programs\\python\\python311\\lib\\site-packages (2.1.2+pt21cu118)\n"
     ]
    },
    {
     "name": "stderr",
     "output_type": "stream",
     "text": [
      "\n",
      "[notice] A new release of pip available: 22.3.1 -> 24.2\n",
      "[notice] To update, run: python.exe -m pip install --upgrade pip\n",
      "\n",
      "[notice] A new release of pip available: 22.3.1 -> 24.2\n",
      "[notice] To update, run: python.exe -m pip install --upgrade pip\n"
     ]
    }
   ],
   "source": [
    "import torch\n",
    "import torch.nn as nn\n",
    "!pip install torch-scatter -f https://data.pyg.org/whl/torch-2.1.0+cu118.html\n",
    "!pip install -q torch-sparse -f https://data.pyg.org/whl/torch-2.1.0+cu118.html\n"
   ]
  },
  {
   "cell_type": "code",
   "execution_count": 2,
   "metadata": {},
   "outputs": [],
   "source": [
    "# %pip install torch_geometric"
   ]
  },
  {
   "cell_type": "code",
   "execution_count": 3,
   "metadata": {},
   "outputs": [],
   "source": [
    "import torch \n",
    "import torch.nn as nn\n",
    "import torch.nn.functional as F\n",
    "import torch.optim as optim\n",
    "import torch_geometric.nn as pyg_nn\n",
    "import numpy as np\n",
    "import pandas as pd\n"
   ]
  },
  {
   "cell_type": "code",
   "execution_count": 4,
   "metadata": {},
   "outputs": [
    {
     "data": {
      "text/plain": [
       "1"
      ]
     },
     "execution_count": 4,
     "metadata": {},
     "output_type": "execute_result"
    }
   ],
   "source": [
    "torch.cuda.device_count()"
   ]
  },
  {
   "cell_type": "code",
   "execution_count": 87,
   "metadata": {},
   "outputs": [
    {
     "data": {
      "text/html": [
       "<div>\n",
       "<style scoped>\n",
       "    .dataframe tbody tr th:only-of-type {\n",
       "        vertical-align: middle;\n",
       "    }\n",
       "\n",
       "    .dataframe tbody tr th {\n",
       "        vertical-align: top;\n",
       "    }\n",
       "\n",
       "    .dataframe thead th {\n",
       "        text-align: right;\n",
       "    }\n",
       "</style>\n",
       "<table border=\"1\" class=\"dataframe\">\n",
       "  <thead>\n",
       "    <tr style=\"text-align: right;\">\n",
       "      <th></th>\n",
       "      <th>user_id</th>\n",
       "      <th>item_id</th>\n",
       "      <th>rating</th>\n",
       "      <th>timestamp</th>\n",
       "    </tr>\n",
       "  </thead>\n",
       "  <tbody>\n",
       "    <tr>\n",
       "      <th>0</th>\n",
       "      <td>196</td>\n",
       "      <td>242</td>\n",
       "      <td>3</td>\n",
       "      <td>881250949</td>\n",
       "    </tr>\n",
       "    <tr>\n",
       "      <th>1</th>\n",
       "      <td>186</td>\n",
       "      <td>302</td>\n",
       "      <td>3</td>\n",
       "      <td>891717742</td>\n",
       "    </tr>\n",
       "    <tr>\n",
       "      <th>2</th>\n",
       "      <td>22</td>\n",
       "      <td>377</td>\n",
       "      <td>1</td>\n",
       "      <td>878887116</td>\n",
       "    </tr>\n",
       "    <tr>\n",
       "      <th>3</th>\n",
       "      <td>244</td>\n",
       "      <td>51</td>\n",
       "      <td>2</td>\n",
       "      <td>880606923</td>\n",
       "    </tr>\n",
       "    <tr>\n",
       "      <th>4</th>\n",
       "      <td>166</td>\n",
       "      <td>346</td>\n",
       "      <td>1</td>\n",
       "      <td>886397596</td>\n",
       "    </tr>\n",
       "    <tr>\n",
       "      <th>...</th>\n",
       "      <td>...</td>\n",
       "      <td>...</td>\n",
       "      <td>...</td>\n",
       "      <td>...</td>\n",
       "    </tr>\n",
       "    <tr>\n",
       "      <th>99995</th>\n",
       "      <td>880</td>\n",
       "      <td>476</td>\n",
       "      <td>3</td>\n",
       "      <td>880175444</td>\n",
       "    </tr>\n",
       "    <tr>\n",
       "      <th>99996</th>\n",
       "      <td>716</td>\n",
       "      <td>204</td>\n",
       "      <td>5</td>\n",
       "      <td>879795543</td>\n",
       "    </tr>\n",
       "    <tr>\n",
       "      <th>99997</th>\n",
       "      <td>276</td>\n",
       "      <td>1090</td>\n",
       "      <td>1</td>\n",
       "      <td>874795795</td>\n",
       "    </tr>\n",
       "    <tr>\n",
       "      <th>99998</th>\n",
       "      <td>13</td>\n",
       "      <td>225</td>\n",
       "      <td>2</td>\n",
       "      <td>882399156</td>\n",
       "    </tr>\n",
       "    <tr>\n",
       "      <th>99999</th>\n",
       "      <td>12</td>\n",
       "      <td>203</td>\n",
       "      <td>3</td>\n",
       "      <td>879959583</td>\n",
       "    </tr>\n",
       "  </tbody>\n",
       "</table>\n",
       "<p>100000 rows × 4 columns</p>\n",
       "</div>"
      ],
      "text/plain": [
       "       user_id  item_id  rating  timestamp\n",
       "0          196      242       3  881250949\n",
       "1          186      302       3  891717742\n",
       "2           22      377       1  878887116\n",
       "3          244       51       2  880606923\n",
       "4          166      346       1  886397596\n",
       "...        ...      ...     ...        ...\n",
       "99995      880      476       3  880175444\n",
       "99996      716      204       5  879795543\n",
       "99997      276     1090       1  874795795\n",
       "99998       13      225       2  882399156\n",
       "99999       12      203       3  879959583\n",
       "\n",
       "[100000 rows x 4 columns]"
      ]
     },
     "execution_count": 87,
     "metadata": {},
     "output_type": "execute_result"
    }
   ],
   "source": [
    "DATA_PATH = \"ml-100k\"\n",
    "\n",
    "column_names=[\"user_id\",\"item_id\",\"rating\",\"timestamp\"]\n",
    "data=pd.read_csv(DATA_PATH+\"/u.data\",delimiter=\"\\t\",names=column_names)\n",
    "data"
   ]
  },
  {
   "cell_type": "code",
   "execution_count": 88,
   "metadata": {},
   "outputs": [
    {
     "data": {
      "text/plain": [
       "55375"
      ]
     },
     "execution_count": 88,
     "metadata": {},
     "output_type": "execute_result"
    }
   ],
   "source": [
    "# In order to recommend a movie to other users , it should have a higher rating. So we will \\\n",
    "# searh for movies with higher ratings\n",
    "\n",
    "len(data[data['rating']>3])"
   ]
  },
  {
   "cell_type": "code",
   "execution_count": 89,
   "metadata": {},
   "outputs": [
    {
     "data": {
      "text/plain": [
       "rating\n",
       "1     6110\n",
       "2    11370\n",
       "3    27145\n",
       "4    34174\n",
       "5    21201\n",
       "Name: rating, dtype: int64"
      ]
     },
     "execution_count": 89,
     "metadata": {},
     "output_type": "execute_result"
    }
   ],
   "source": [
    "data.groupby(['rating'])['rating'].count()"
   ]
  },
  {
   "cell_type": "code",
   "execution_count": 90,
   "metadata": {},
   "outputs": [],
   "source": [
    "from sklearn.model_selection import train_test_split\n",
    "\n",
    "train,test=train_test_split(data.values,test_size=0.2,random_state=42)"
   ]
  },
  {
   "cell_type": "code",
   "execution_count": 91,
   "metadata": {},
   "outputs": [
    {
     "data": {
      "text/html": [
       "<div>\n",
       "<style scoped>\n",
       "    .dataframe tbody tr th:only-of-type {\n",
       "        vertical-align: middle;\n",
       "    }\n",
       "\n",
       "    .dataframe tbody tr th {\n",
       "        vertical-align: top;\n",
       "    }\n",
       "\n",
       "    .dataframe thead th {\n",
       "        text-align: right;\n",
       "    }\n",
       "</style>\n",
       "<table border=\"1\" class=\"dataframe\">\n",
       "  <thead>\n",
       "    <tr style=\"text-align: right;\">\n",
       "      <th></th>\n",
       "      <th>user_id</th>\n",
       "      <th>item_id</th>\n",
       "      <th>rating</th>\n",
       "      <th>timestamp</th>\n",
       "    </tr>\n",
       "  </thead>\n",
       "  <tbody>\n",
       "    <tr>\n",
       "      <th>0</th>\n",
       "      <td>807</td>\n",
       "      <td>1411</td>\n",
       "      <td>1</td>\n",
       "      <td>893082619</td>\n",
       "    </tr>\n",
       "    <tr>\n",
       "      <th>1</th>\n",
       "      <td>474</td>\n",
       "      <td>659</td>\n",
       "      <td>5</td>\n",
       "      <td>887925187</td>\n",
       "    </tr>\n",
       "    <tr>\n",
       "      <th>2</th>\n",
       "      <td>463</td>\n",
       "      <td>268</td>\n",
       "      <td>4</td>\n",
       "      <td>877384940</td>\n",
       "    </tr>\n",
       "    <tr>\n",
       "      <th>3</th>\n",
       "      <td>139</td>\n",
       "      <td>286</td>\n",
       "      <td>4</td>\n",
       "      <td>879537844</td>\n",
       "    </tr>\n",
       "    <tr>\n",
       "      <th>4</th>\n",
       "      <td>621</td>\n",
       "      <td>751</td>\n",
       "      <td>4</td>\n",
       "      <td>883799651</td>\n",
       "    </tr>\n",
       "    <tr>\n",
       "      <th>...</th>\n",
       "      <td>...</td>\n",
       "      <td>...</td>\n",
       "      <td>...</td>\n",
       "      <td>...</td>\n",
       "    </tr>\n",
       "    <tr>\n",
       "      <th>79995</th>\n",
       "      <td>216</td>\n",
       "      <td>231</td>\n",
       "      <td>2</td>\n",
       "      <td>880245109</td>\n",
       "    </tr>\n",
       "    <tr>\n",
       "      <th>79996</th>\n",
       "      <td>343</td>\n",
       "      <td>276</td>\n",
       "      <td>5</td>\n",
       "      <td>876403078</td>\n",
       "    </tr>\n",
       "    <tr>\n",
       "      <th>79997</th>\n",
       "      <td>437</td>\n",
       "      <td>475</td>\n",
       "      <td>3</td>\n",
       "      <td>880140288</td>\n",
       "    </tr>\n",
       "    <tr>\n",
       "      <th>79998</th>\n",
       "      <td>284</td>\n",
       "      <td>322</td>\n",
       "      <td>3</td>\n",
       "      <td>885329671</td>\n",
       "    </tr>\n",
       "    <tr>\n",
       "      <th>79999</th>\n",
       "      <td>222</td>\n",
       "      <td>200</td>\n",
       "      <td>3</td>\n",
       "      <td>878181647</td>\n",
       "    </tr>\n",
       "  </tbody>\n",
       "</table>\n",
       "<p>80000 rows × 4 columns</p>\n",
       "</div>"
      ],
      "text/plain": [
       "       user_id  item_id  rating  timestamp\n",
       "0          807     1411       1  893082619\n",
       "1          474      659       5  887925187\n",
       "2          463      268       4  877384940\n",
       "3          139      286       4  879537844\n",
       "4          621      751       4  883799651\n",
       "...        ...      ...     ...        ...\n",
       "79995      216      231       2  880245109\n",
       "79996      343      276       5  876403078\n",
       "79997      437      475       3  880140288\n",
       "79998      284      322       3  885329671\n",
       "79999      222      200       3  878181647\n",
       "\n",
       "[80000 rows x 4 columns]"
      ]
     },
     "execution_count": 91,
     "metadata": {},
     "output_type": "execute_result"
    }
   ],
   "source": [
    "train_data=pd.DataFrame(train,columns=column_names)\n",
    "test_data=pd.DataFrame(test,columns=column_names)\n",
    "train_data"
   ]
  },
  {
   "cell_type": "code",
   "execution_count": 92,
   "metadata": {},
   "outputs": [
    {
     "data": {
      "text/html": [
       "<div>\n",
       "<style scoped>\n",
       "    .dataframe tbody tr th:only-of-type {\n",
       "        vertical-align: middle;\n",
       "    }\n",
       "\n",
       "    .dataframe tbody tr th {\n",
       "        vertical-align: top;\n",
       "    }\n",
       "\n",
       "    .dataframe thead th {\n",
       "        text-align: right;\n",
       "    }\n",
       "</style>\n",
       "<table border=\"1\" class=\"dataframe\">\n",
       "  <thead>\n",
       "    <tr style=\"text-align: right;\">\n",
       "      <th></th>\n",
       "      <th>user_id</th>\n",
       "      <th>item_id</th>\n",
       "      <th>rating</th>\n",
       "      <th>timestamp</th>\n",
       "      <th>user_id_idx</th>\n",
       "      <th>item_id_idx</th>\n",
       "    </tr>\n",
       "  </thead>\n",
       "  <tbody>\n",
       "    <tr>\n",
       "      <th>0</th>\n",
       "      <td>807</td>\n",
       "      <td>1411</td>\n",
       "      <td>1</td>\n",
       "      <td>893082619</td>\n",
       "      <td>806</td>\n",
       "      <td>1404</td>\n",
       "    </tr>\n",
       "    <tr>\n",
       "      <th>1</th>\n",
       "      <td>474</td>\n",
       "      <td>659</td>\n",
       "      <td>5</td>\n",
       "      <td>887925187</td>\n",
       "      <td>473</td>\n",
       "      <td>658</td>\n",
       "    </tr>\n",
       "    <tr>\n",
       "      <th>2</th>\n",
       "      <td>463</td>\n",
       "      <td>268</td>\n",
       "      <td>4</td>\n",
       "      <td>877384940</td>\n",
       "      <td>462</td>\n",
       "      <td>267</td>\n",
       "    </tr>\n",
       "    <tr>\n",
       "      <th>3</th>\n",
       "      <td>139</td>\n",
       "      <td>286</td>\n",
       "      <td>4</td>\n",
       "      <td>879537844</td>\n",
       "      <td>138</td>\n",
       "      <td>285</td>\n",
       "    </tr>\n",
       "    <tr>\n",
       "      <th>4</th>\n",
       "      <td>621</td>\n",
       "      <td>751</td>\n",
       "      <td>4</td>\n",
       "      <td>883799651</td>\n",
       "      <td>620</td>\n",
       "      <td>750</td>\n",
       "    </tr>\n",
       "    <tr>\n",
       "      <th>...</th>\n",
       "      <td>...</td>\n",
       "      <td>...</td>\n",
       "      <td>...</td>\n",
       "      <td>...</td>\n",
       "      <td>...</td>\n",
       "      <td>...</td>\n",
       "    </tr>\n",
       "    <tr>\n",
       "      <th>79995</th>\n",
       "      <td>216</td>\n",
       "      <td>231</td>\n",
       "      <td>2</td>\n",
       "      <td>880245109</td>\n",
       "      <td>215</td>\n",
       "      <td>230</td>\n",
       "    </tr>\n",
       "    <tr>\n",
       "      <th>79996</th>\n",
       "      <td>343</td>\n",
       "      <td>276</td>\n",
       "      <td>5</td>\n",
       "      <td>876403078</td>\n",
       "      <td>342</td>\n",
       "      <td>275</td>\n",
       "    </tr>\n",
       "    <tr>\n",
       "      <th>79997</th>\n",
       "      <td>437</td>\n",
       "      <td>475</td>\n",
       "      <td>3</td>\n",
       "      <td>880140288</td>\n",
       "      <td>436</td>\n",
       "      <td>474</td>\n",
       "    </tr>\n",
       "    <tr>\n",
       "      <th>79998</th>\n",
       "      <td>284</td>\n",
       "      <td>322</td>\n",
       "      <td>3</td>\n",
       "      <td>885329671</td>\n",
       "      <td>283</td>\n",
       "      <td>321</td>\n",
       "    </tr>\n",
       "    <tr>\n",
       "      <th>79999</th>\n",
       "      <td>222</td>\n",
       "      <td>200</td>\n",
       "      <td>3</td>\n",
       "      <td>878181647</td>\n",
       "      <td>221</td>\n",
       "      <td>199</td>\n",
       "    </tr>\n",
       "  </tbody>\n",
       "</table>\n",
       "<p>80000 rows × 6 columns</p>\n",
       "</div>"
      ],
      "text/plain": [
       "       user_id  item_id  rating  timestamp  user_id_idx  item_id_idx\n",
       "0          807     1411       1  893082619          806         1404\n",
       "1          474      659       5  887925187          473          658\n",
       "2          463      268       4  877384940          462          267\n",
       "3          139      286       4  879537844          138          285\n",
       "4          621      751       4  883799651          620          750\n",
       "...        ...      ...     ...        ...          ...          ...\n",
       "79995      216      231       2  880245109          215          230\n",
       "79996      343      276       5  876403078          342          275\n",
       "79997      437      475       3  880140288          436          474\n",
       "79998      284      322       3  885329671          283          321\n",
       "79999      222      200       3  878181647          221          199\n",
       "\n",
       "[80000 rows x 6 columns]"
      ]
     },
     "execution_count": 92,
     "metadata": {},
     "output_type": "execute_result"
    }
   ],
   "source": [
    "import sklearn.preprocessing as pp\n",
    "\n",
    "# ordering of the users and items might not be correct\n",
    "le_user = pp.LabelEncoder()\n",
    "le_item = pp.LabelEncoder()\n",
    "train_data['user_id_idx'] = le_user.fit_transform(train_data['user_id'].values)\n",
    "train_data['item_id_idx'] = le_item.fit_transform(train_data['item_id'].values)\n",
    "train_data"
   ]
  },
  {
   "cell_type": "code",
   "execution_count": 96,
   "metadata": {},
   "outputs": [
    {
     "name": "stdout",
     "output_type": "stream",
     "text": [
      "943 1653\n"
     ]
    }
   ],
   "source": [
    "train_user_ids = train_data['user_id'].unique()\n",
    "train_item_ids = train_data['item_id'].unique()\n",
    "\n",
    "print(len(train_user_ids), len(train_item_ids))\n",
    "\n",
    "# we only consider users in the test data who were already there in the training data and same for test data\n",
    "test_data = test_data[\n",
    "    (test_data['user_id'].isin(train_user_ids)) &\n",
    "    (test_data['item_id'].isin(train_item_ids))\n",
    "]"
   ]
  },
  {
   "cell_type": "code",
   "execution_count": 97,
   "metadata": {},
   "outputs": [],
   "source": [
    "#performing the same label encoding\n",
    "test_data['user_id_idx'] = le_user.transform(test_data['user_id'].values)\n",
    "test_data['item_id_idx'] = le_item.transform(test_data['item_id'].values)"
   ]
  },
  {
   "cell_type": "code",
   "execution_count": 98,
   "metadata": {},
   "outputs": [
    {
     "data": {
      "text/plain": [
       "943"
      ]
     },
     "execution_count": 98,
     "metadata": {},
     "output_type": "execute_result"
    }
   ],
   "source": [
    "num_users_training=train_data['user_id_idx'].nunique()\n",
    "num_users_training"
   ]
  },
  {
   "cell_type": "code",
   "execution_count": 99,
   "metadata": {},
   "outputs": [
    {
     "data": {
      "text/plain": [
       "1653"
      ]
     },
     "execution_count": 99,
     "metadata": {},
     "output_type": "execute_result"
    }
   ],
   "source": [
    "num_items_training=train_data['item_id_idx'].nunique()\n",
    "num_items_training"
   ]
  },
  {
   "cell_type": "code",
   "execution_count": 100,
   "metadata": {},
   "outputs": [],
   "source": [
    "import random\n",
    "def negative_sampling(x,num_items):\n",
    "        while True:\n",
    "            neg_id = random.randint(0, num_items - 1)\n",
    "            if neg_id not in x:\n",
    "                return neg_id"
   ]
  },
  {
   "cell_type": "code",
   "execution_count": 101,
   "metadata": {},
   "outputs": [],
   "source": [
    "\n",
    "def data_processing(data,batch_size,num_users,num_items):\n",
    "    # grouping to find every items that a user has interacted with\n",
    "    item_list_users_have_interacted_with=data.groupby('user_id_idx')['item_id_idx'].apply(list).reset_index()\n",
    "    # print(item_list_users_have_interacted_with)\n",
    "    # if number of users< batch_size , sample with replacement\n",
    "    user_index=[i for i in range(num_users)]\n",
    "    if num_users<batch_size:\n",
    "        users=[random.choice(user_index) for _ in range(batch_size)]\n",
    "    else:\n",
    "        users=random.sample(user_index,batch_size)\n",
    "    users.sort()\n",
    "    users_df=pd.DataFrame(users,columns=['users'])\n",
    "    # print(users_df.apply(list))\n",
    "    item_list_users_have_interacted_with = pd.merge(item_list_users_have_interacted_with, users_df, how = 'right', left_on = 'user_id_idx', right_on = 'users')\n",
    "    \n",
    "    #For each selected user, randomly chooses one of their interacted items as a positive sample\n",
    "    pos_items = item_list_users_have_interacted_with['item_id_idx'].apply(lambda x : random.choice(x)).values\n",
    "    neg_items = item_list_users_have_interacted_with['item_id_idx'].apply(lambda x: negative_sampling(x,num_items)).values\n",
    "    return (\n",
    "        torch.LongTensor(list(users)),\n",
    "        torch.LongTensor(list(pos_items)) + num_users,\n",
    "        torch.LongTensor(list(neg_items)) + num_items\n",
    "    )\n",
    "\n",
    "# data_processing(train_data,15,20,10)"
   ]
  },
  {
   "cell_type": "markdown",
   "metadata": {},
   "source": [
    "## Creating the LightGCN and NGCF architecture"
   ]
  },
  {
   "cell_type": "code",
   "execution_count": 102,
   "metadata": {},
   "outputs": [],
   "source": [
    "from torch_geometric.utils import degree\n",
    "from torch_geometric.nn.conv import MessagePassing"
   ]
  },
  {
   "cell_type": "code",
   "execution_count": 103,
   "metadata": {},
   "outputs": [],
   "source": [
    "class LightGCNConv(MessagePassing):\n",
    "  def __init__(self, **kwargs):\n",
    "    super().__init__(aggr='add')\n",
    "\n",
    "  def forward(self, x, edge_index):\n",
    "    # Compute normalization\n",
    "    from_, to_ = edge_index\n",
    "    deg = degree(to_, x.size(0), dtype=x.dtype)\n",
    "    deg_inv_sqrt = deg.pow(-0.5)\n",
    "    deg_inv_sqrt[deg_inv_sqrt == float('inf')] = 0\n",
    "    norm = deg_inv_sqrt[from_] * deg_inv_sqrt[to_]\n",
    "\n",
    "    # Start propagating messages (no update after aggregation)\n",
    "    return self.propagate(edge_index, x=x, norm=norm)\n",
    "\n",
    "  def message(self, x_j, norm):\n",
    "    return norm.view(-1, 1) * x_j"
   ]
  },
  {
   "cell_type": "code",
   "execution_count": 104,
   "metadata": {},
   "outputs": [],
   "source": [
    "class NGCFConv(MessagePassing):\n",
    "  def __init__(self, latent_dim, dropout, bias=True, **kwargs):\n",
    "    super(NGCFConv, self).__init__(aggr='add', **kwargs)\n",
    "\n",
    "    self.dropout = dropout\n",
    "\n",
    "    self.lin_1 = nn.Linear(latent_dim, latent_dim, bias=bias)\n",
    "    self.lin_2 = nn.Linear(latent_dim, latent_dim, bias=bias)\n",
    "\n",
    "    self.init_parameters()\n",
    "\n",
    "\n",
    "  def init_parameters(self):\n",
    "    nn.init.xavier_uniform_(self.lin_1.weight)\n",
    "    nn.init.xavier_uniform_(self.lin_2.weight)\n",
    "\n",
    "\n",
    "  def forward(self, x, edge_index):\n",
    "    # Compute normalization\n",
    "    from_, to_ = edge_index\n",
    "    deg = degree(to_, x.size(0), dtype=x.dtype)\n",
    "    deg_inv_sqrt = deg.pow(-0.5)\n",
    "    deg_inv_sqrt[deg_inv_sqrt == float('inf')] = 0\n",
    "    norm = deg_inv_sqrt[from_] * deg_inv_sqrt[to_]\n",
    "\n",
    "    # Start propagating messages\n",
    "    out = self.propagate(edge_index, x=(x, x), norm=norm)\n",
    "\n",
    "    # Perform update after aggregation\n",
    "    out += self.lin_1(x)\n",
    "    out = F.dropout(out, self.dropout, self.training)\n",
    "    return F.leaky_relu(out)\n",
    "\n",
    "\n",
    "  def message(self, x_j, x_i, norm):\n",
    "    return norm.view(-1, 1) * (self.lin_1(x_j) + self.lin_2(x_j * x_i))"
   ]
  },
  {
   "cell_type": "markdown",
   "metadata": {},
   "source": [
    "## Creating the Bayesian Personalised Ranking loss function"
   ]
  },
  {
   "cell_type": "code",
   "execution_count": 105,
   "metadata": {},
   "outputs": [],
   "source": [
    "def compute_bpr_loss(users, users_emb, pos_emb, neg_emb, user_emb0,  pos_emb0, neg_emb0):\n",
    "  # compute loss from initial embeddings, used for regulization\n",
    "  # reg_loss = (1 / 2) * (\n",
    "  #   user_emb0.norm().pow(2) +\n",
    "  #   pos_emb0.norm().pow(2)  +\n",
    "  #   neg_emb0.norm().pow(2)\n",
    "  # ) / float(len(users))\n",
    "\n",
    "  # compute BPR loss from user, positive item, and negative item embeddings\n",
    "  pos_scores = torch.mul(users_emb, pos_emb).sum(dim=1)\n",
    "  neg_scores = torch.mul(users_emb, neg_emb).sum(dim=1)\n",
    "\n",
    "  bpr_loss = torch.mean(F.softplus(neg_scores - pos_scores))\n",
    "\n",
    "  return bpr_loss\n",
    "# , reg_loss"
   ]
  },
  {
   "cell_type": "markdown",
   "metadata": {},
   "source": [
    "## Creating the Recommender System"
   ]
  },
  {
   "cell_type": "code",
   "execution_count": 114,
   "metadata": {},
   "outputs": [],
   "source": [
    "class RecommenderSyem(nn.Module):\n",
    "    def __init__(self, hidden_dims, num_user, num_items, num_layers, model=\"LightGCN\", dropout=0.4):\n",
    "        super(RecommenderSyem, self).__init__()\n",
    "        self.model = model\n",
    "        self.hidden_dims = hidden_dims\n",
    "        self.dropout = dropout\n",
    "        self.num_user = num_user\n",
    "        self.num_items = num_items\n",
    "\n",
    "        self.embeddings = nn.Embedding(num_items + num_user, self.hidden_dims)\n",
    "\n",
    "        if self.model == \"LightGCN\":\n",
    "            self.conv_layers = nn.ModuleList([\n",
    "                LightGCNConv() for _ in range(num_layers)\n",
    "            ])\n",
    "        elif self.model == \"NGCF\":\n",
    "            self.conv_layers = nn.ModuleList([\n",
    "                NGCFConv(latent_dim=hidden_dims, dropout=self.dropout) for _ in range(num_layers)\n",
    "            ])\n",
    "    \n",
    "    def forward(self, edges):\n",
    "        all_embeddings = [self.embeddings.weight]\n",
    "        x = self.embeddings.weight\n",
    "        for conv in self.conv_layers:\n",
    "            x = conv(x=x, edge_index=edges)\n",
    "            all_embeddings.append(x)\n",
    "        \n",
    "        if self.model == \"NGCF\":\n",
    "            output = torch.cat(all_embeddings, dim=-1)\n",
    "        else:\n",
    "            output = torch.mean(torch.stack(all_embeddings, dim=0), dim=0)\n",
    "        \n",
    "        return self.embeddings.weight, output\n",
    "\n",
    "    def handle_out_of_bounds(self, indices, max_index):\n",
    "        return torch.clamp(indices, 0, max_index - 1)\n",
    "\n",
    "    def encode_minibatch(self, users, pos_items, neg_items, edge_index):\n",
    "        emb0, out = self(edge_index)\n",
    "        max_index = self.num_user + self.num_items\n",
    "\n",
    "        users = self.handle_out_of_bounds(users, max_index)\n",
    "        pos_items = self.handle_out_of_bounds(pos_items, max_index)\n",
    "        neg_items = self.handle_out_of_bounds(neg_items, max_index)\n",
    "\n",
    "        return (\n",
    "            out[users],\n",
    "            out[pos_items],\n",
    "            out[neg_items],\n",
    "            emb0[users],\n",
    "            emb0[pos_items],\n",
    "            emb0[neg_items]\n",
    "        )"
   ]
  },
  {
   "cell_type": "markdown",
   "metadata": {},
   "source": [
    "## Trainer"
   ]
  },
  {
   "cell_type": "code",
   "execution_count": 115,
   "metadata": {},
   "outputs": [],
   "source": [
    "latent_dim = 64\n",
    "n_layers = 3\n",
    "\n",
    "EPOCHS = 50\n",
    "BATCH_SIZE = 1024\n",
    "DECAY = 0.0001\n",
    "LR = 0.005\n",
    "K = 20"
   ]
  },
  {
   "cell_type": "code",
   "execution_count": 116,
   "metadata": {},
   "outputs": [
    {
     "data": {
      "text/plain": [
       "tensor([[ 806,  473,  462,  ...,  474,  321,  199],\n",
       "        [1404,  658,  267,  ...,  436,  283,  221]])"
      ]
     },
     "execution_count": 116,
     "metadata": {},
     "output_type": "execute_result"
    }
   ],
   "source": [
    "# we need to create the edges for the training data\n",
    "users=torch.LongTensor(train_data['user_id_idx'])\n",
    "items=torch.LongTensor(train_data['item_id_idx'])\n",
    "training_edges=torch.stack((\n",
    "    torch.cat([users,items]),\n",
    "    torch.cat([items,users])\n",
    "))\n",
    "training_edges"
   ]
  },
  {
   "cell_type": "code",
   "execution_count": 117,
   "metadata": {},
   "outputs": [],
   "source": [
    "def metric_calculator(user_Embed_wts, item_Embed_wts, n_users, n_items, train_data, test_data, K):\n",
    "    test_user_ids = torch.LongTensor(test_data['user_id_idx'].unique())\n",
    "    # compute the score of all user-item pairs\n",
    "    relevance_score = torch.matmul(user_Embed_wts, torch.transpose(item_Embed_wts,0, 1))\n",
    "\n",
    "    # create dense tensor of all user-item interactions\n",
    "    i = torch.stack((\n",
    "      torch.LongTensor(train_data['user_id_idx'].values),\n",
    "      torch.LongTensor(train_data['item_id_idx'].values)\n",
    "    ))\n",
    "    v = torch.ones((len(train_data)), dtype=torch.float64)\n",
    "    interactions_t = torch.sparse.FloatTensor(i, v, (n_users, n_items))\\\n",
    "        .to_dense()\n",
    "    print(f\"i: {i}\\n\")\n",
    "    print(f\"v:{v}\\n\")\n",
    "    print(f\"inter: {interactions_t}\\n\")\n",
    "    # mask out training user-item interactions from metric computation\n",
    "    relevance_score = torch.mul(relevance_score, (1 - interactions_t))\n",
    "\n",
    "    # compute top scoring items for each user\n",
    "    topk_relevance_indices = torch.topk(relevance_score, K).indices\n",
    "    topk_relevance_indices_df = pd.DataFrame(topk_relevance_indices.cpu().numpy(),columns =['top_indx_'+str(x+1) for x in range(K)])\n",
    "    topk_relevance_indices_df['user_ID'] = topk_relevance_indices_df.index\n",
    "    topk_relevance_indices_df['top_rlvnt_itm'] = topk_relevance_indices_df[['top_indx_'+str(x+1) for x in range(K)]].values.tolist()\n",
    "    topk_relevance_indices_df = topk_relevance_indices_df[['user_ID','top_rlvnt_itm']]\n",
    "\n",
    "    # measure overlap between recommended (top-scoring) and held-out user-item\n",
    "    # interactions\n",
    "    test_interacted_items = test_data.groupby('user_id_idx')['item_id_idx'].apply(list).reset_index()\n",
    "    metrics_df = pd.merge(test_interacted_items,topk_relevance_indices_df, how= 'left', left_on = 'user_id_idx',right_on = ['user_ID'])\n",
    "    metrics_df['intrsctn_itm'] = [list(set(a).intersection(b)) for a, b in zip(metrics_df.item_id_idx, metrics_df.top_rlvnt_itm)]\n",
    "\n",
    "    metrics_df['recall'] = metrics_df.apply(lambda x : len(x['intrsctn_itm'])/len(x['item_id_idx']), axis = 1)\n",
    "    metrics_df['precision'] = metrics_df.apply(lambda x : len(x['intrsctn_itm'])/K, axis = 1)\n",
    "\n",
    "    return metrics_df['recall'].mean(), metrics_df['precision'].mean()"
   ]
  },
  {
   "cell_type": "code",
   "execution_count": 130,
   "metadata": {},
   "outputs": [],
   "source": [
    "from tqdm import tqdm\n",
    "def trainer(model,optimizer,data):\n",
    "    per_epoch_losses=[]\n",
    "    per_epoch_recall=[]\n",
    "    per_epoch_precision=[]\n",
    "\n",
    "    for epoch in tqdm(range(EPOCHS)):\n",
    "        num_batches=int(len(data)/BATCH_SIZE)\n",
    "        losses=[]\n",
    "        model.train()\n",
    "        for batch in range(num_batches):\n",
    "            optimizer.zero_grad()\n",
    "            users,pos_item,neg_item=data_processing(data,batch_size=BATCH_SIZE,num_users=num_users_training,num_items=num_items_training)\n",
    "            users_emb, pos_emb, neg_emb, userEmb0,  posEmb0, negEmb0 = model.encode_minibatch(users, pos_item, neg_item, training_edges)\n",
    "            loss=compute_bpr_loss(users,users_emb,pos_emb,neg_emb,userEmb0,posEmb0,negEmb0)\n",
    "            losses.append(loss.item())\n",
    "            loss.backward()\n",
    "            optimizer.step()\n",
    "        \n",
    "        model.eval()\n",
    "        with torch.no_grad():\n",
    "            _,out=model(training_edges)\n",
    "            final_user_emb, final_item_emb = torch.split(out, (num_users_training, num_items_training))\n",
    "            test_topK_recall,  test_topK_precision = metric_calculator(\n",
    "            final_user_emb, final_item_emb, num_users_training, num_items_training, train_data, test_data, K\n",
    "          )\n",
    "        losses.append(np.mean(losses))\n",
    "        per_epoch_recall.append(test_topK_recall)\n",
    "        per_epoch_precision.append(test_topK_precision)\n",
    "    \n",
    "    return(\n",
    "        per_epoch_losses,\n",
    "        per_epoch_recall,\n",
    "        per_epoch_precision\n",
    "    )"
   ]
  },
  {
   "cell_type": "markdown",
   "metadata": {},
   "source": [
    "## Trainig LightGCN"
   ]
  },
  {
   "cell_type": "code",
   "execution_count": 131,
   "metadata": {},
   "outputs": [],
   "source": [
    "lightgcn = RecommenderSyem(\n",
    "  hidden_dims=latent_dim,\n",
    "  num_layers=n_layers,\n",
    "  num_user=num_users_training,\n",
    "  num_items=num_items_training,\n",
    "  model='LightGCN'\n",
    ")\n",
    "\n",
    "optimizer = torch.optim.Adam(lightgcn.parameters(), lr=LR)"
   ]
  },
  {
   "cell_type": "code",
   "execution_count": 133,
   "metadata": {},
   "outputs": [
    {
     "name": "stderr",
     "output_type": "stream",
     "text": [
      "100%|██████████| 50/50 [07:24<00:00,  8.90s/it]\n"
     ]
    }
   ],
   "source": [
    "light_loss,light_recall, light_precision = trainer(lightgcn, optimizer, train_data)"
   ]
  },
  {
   "cell_type": "code",
   "execution_count": 134,
   "metadata": {},
   "outputs": [],
   "source": [
    "epoch_list = [(i+1) for i in range(EPOCHS)]"
   ]
  },
  {
   "cell_type": "code",
   "execution_count": 139,
   "metadata": {},
   "outputs": [],
   "source": [
    "# light_recall"
   ]
  },
  {
   "cell_type": "code",
   "execution_count": 141,
   "metadata": {},
   "outputs": [],
   "source": [
    "from matplotlib import pyplot as plt\n",
    "# plt.plot(epoch_list, light_loss, label='Total Training Loss')\n",
    "\n",
    "# plt.xlabel('Epoch')\n",
    "# plt.ylabel('Loss')\n",
    "# plt.legend()"
   ]
  },
  {
   "cell_type": "code",
   "execution_count": 142,
   "metadata": {},
   "outputs": [
    {
     "data": {
      "text/plain": [
       "<matplotlib.legend.Legend at 0x23160851490>"
      ]
     },
     "execution_count": 142,
     "metadata": {},
     "output_type": "execute_result"
    },
    {
     "data": {
      "image/png": "[encoded data removed]",
      "text/plain": [
       "<Figure size 640x480 with 1 Axes>"
      ]
     },
     "metadata": {},
     "output_type": "display_data"
    }
   ],
   "source": [
    "plt.plot(epoch_list, light_recall, label='Recall')\n",
    "plt.plot(epoch_list, light_precision, label='Precision')\n",
    "plt.xlabel('Epoch')\n",
    "plt.ylabel('Metrics')\n",
    "plt.legend()"
   ]
  },
  {
   "cell_type": "markdown",
   "metadata": {},
   "source": [
    "## Training NGCF"
   ]
  },
  {
   "cell_type": "code",
   "execution_count": 144,
   "metadata": {},
   "outputs": [],
   "source": [
    "ngcf = RecommenderSyem(\n",
    "  hidden_dims=latent_dim,\n",
    "  num_layers=n_layers,\n",
    "  num_user=num_users_training,\n",
    "  num_items=num_items_training,\n",
    "  model='NGCF'\n",
    ")\n",
    "\n",
    "optimizer = torch.optim.Adam(ngcf.parameters(), lr=LR)"
   ]
  },
  {
   "cell_type": "code",
   "execution_count": 146,
   "metadata": {},
   "outputs": [
    {
     "name": "stderr",
     "output_type": "stream",
     "text": [
      " 48%|████▊     | 24/50 [18:31<21:27, 49.53s/it]"
     ]
    }
   ],
   "source": [
    "ngcf_loss, ngcf_recall, ngcf_precision = trainer(ngcf, optimizer, train_data)"
   ]
  },
  {
   "cell_type": "code",
   "execution_count": 147,
   "metadata": {},
   "outputs": [],
   "source": [
    "epoch_list = [(i+1) for i in range(EPOCHS)]"
   ]
  },
  {
   "cell_type": "code",
   "execution_count": 150,
   "metadata": {},
   "outputs": [
    {
     "ename": "NameError",
     "evalue": "name 'ngcf_loss' is not defined",
     "output_type": "error",
     "traceback": [
      "\u001b[1;31m---------------------------------------------------------------------------\u001b[0m",
      "\u001b[1;31mNameError\u001b[0m                                 Traceback (most recent call last)",
      "Cell \u001b[1;32mIn[150], line 1\u001b[0m\n\u001b[1;32m----> 1\u001b[0m \u001b[43mngcf_loss\u001b[49m\n",
      "\u001b[1;31mNameError\u001b[0m: name 'ngcf_loss' is not defined"
     ]
    }
   ],
   "source": [
    "ngcf_loss"
   ]
  },
  {
   "cell_type": "code",
   "execution_count": null,
   "metadata": {},
   "outputs": [],
   "source": []
  }
 ],
 "metadata": {
  "kernelspec": {
   "display_name": "Python 3",
   "language": "python",
   "name": "python3"
  },
  "language_info": {
   "codemirror_mode": {
    "name": "ipython",
    "version": 3
   },
   "file_extension": ".py",
   "mimetype": "text/x-python",
   "name": "python",
   "nbconvert_exporter": "python",
   "pygments_lexer": "ipython3",
   "version": "3.11.3"
  }
 },
 "nbformat": 4,
 "nbformat_minor": 2
}
